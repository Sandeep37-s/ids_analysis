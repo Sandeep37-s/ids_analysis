{
 "cells": [
  {
   "cell_type": "code",
   "execution_count": 1,
   "id": "8705da8a-f54a-4d0b-be69-2be648626e0f",
   "metadata": {},
   "outputs": [
    {
     "name": "stdout",
     "output_type": "stream",
     "text": [
      "Loading training data...\n",
      "Loading testing data...\n",
      "Preprocessing data...\n",
      "Training the Decision Tree model...\n",
      "Model training complete.\n",
      "Making predictions on the test set...\n",
      "Prediction complete.\n",
      "\n",
      "--- Decision Tree Model Evaluation ---\n",
      "Accuracy: 0.7085\n",
      "Precision: 0.6302\n",
      "Recall: 0.7085\n",
      "F1-Score: 0.6277\n",
      "\n",
      "Classification Report:\n",
      "                 precision    recall  f1-score   support\n",
      "\n",
      "        apache2       0.00      0.00      0.00       737\n",
      "           back       0.27      0.47      0.34       359\n",
      "buffer_overflow       0.17      0.05      0.08        20\n",
      "      ftp_write       0.00      0.00      0.00         3\n",
      "   guess_passwd       1.00      0.14      0.25      1231\n",
      "     httptunnel       0.00      0.00      0.00       133\n",
      "           imap       0.00      0.00      0.00         1\n",
      "        ipsweep       0.97      1.00      0.98       141\n",
      "           land       0.71      0.71      0.71         7\n",
      "     loadmodule       0.00      0.00      0.00         2\n",
      "       mailbomb       0.00      0.00      0.00       293\n",
      "          mscan       0.00      0.00      0.00       996\n",
      "       multihop       0.00      0.00      0.00        18\n",
      "          named       0.00      0.00      0.00        17\n",
      "        neptune       0.92      1.00      0.96      4657\n",
      "           nmap       0.94      0.99      0.96        73\n",
      "         normal       0.71      0.94      0.81      9711\n",
      "           perl       0.50      1.00      0.67         2\n",
      "            phf       1.00      0.50      0.67         2\n",
      "            pod       0.72      0.93      0.81        41\n",
      "      portsweep       0.37      0.94      0.53       157\n",
      "   processtable       0.00      0.00      0.00       685\n",
      "             ps       0.00      0.00      0.00        15\n",
      "        rootkit       0.00      0.00      0.00        13\n",
      "          saint       0.00      0.00      0.00       319\n",
      "          satan       0.36      1.00      0.53       735\n",
      "       sendmail       0.00      0.00      0.00        14\n",
      "          smurf       0.98      1.00      0.99       665\n",
      "  snmpgetattack       0.00      0.00      0.00       178\n",
      "      snmpguess       0.00      0.00      0.00       331\n",
      "            spy       0.00      0.00      0.00         0\n",
      "      sqlattack       0.00      0.00      0.00         2\n",
      "       teardrop       0.24      1.00      0.39        12\n",
      "       udpstorm       0.00      0.00      0.00         2\n",
      "    warezclient       0.00      0.00      0.00         0\n",
      "    warezmaster       0.50      0.00      0.00       944\n",
      "           worm       0.00      0.00      0.00         2\n",
      "          xlock       0.00      0.00      0.00         9\n",
      "         xsnoop       0.00      0.00      0.00         4\n",
      "          xterm       0.00      0.00      0.00        13\n",
      "\n",
      "       accuracy                           0.71     22544\n",
      "      macro avg       0.26      0.29      0.24     22544\n",
      "   weighted avg       0.63      0.71      0.63     22544\n",
      "\n"
     ]
    }
   ],
   "source": [
    "# 1. Import necessary libraries\n",
    "import pandas as pd\n",
    "from sklearn.tree import DecisionTreeClassifier\n",
    "from sklearn.metrics import accuracy_score, precision_score, recall_score, f1_score, classification_report\n",
    "\n",
    "# This code assumes you have 'KDDTrain+.txt' and 'KDDTest+.txt' in the same folder.\n",
    "\n",
    "# 2. Load the Training and Testing Datasets\n",
    "# Generate generic column names as the raw files don't have headers.\n",
    "col_names = [f\"feature_{i}\" for i in range(41)] + ['label', 'difficulty']\n",
    "\n",
    "# Load training data\n",
    "print(\"Loading training data...\")\n",
    "train_df = pd.read_csv(r\"C:\\Users\\sande\\Downloads\\ids\\nsl_kdd\\KDDTrain+.txt\", header=None, names=col_names)\n",
    "\n",
    "# Load testing data\n",
    "print(\"Loading testing data...\")\n",
    "test_df = pd.read_csv(r\"C:\\Users\\sande\\Downloads\\ids\\nsl_kdd\\KDDTest+.txt\", header=None, names=col_names)\n",
    "\n",
    "# 3. Prepare the Data\n",
    "# Drop the 'difficulty' column\n",
    "train_df = train_df.drop('difficulty', axis=1)\n",
    "test_df = test_df.drop('difficulty', axis=1)\n",
    "\n",
    "# Separate features (X) and labels (y) for both sets\n",
    "X_train = train_df.drop('label', axis=1)\n",
    "y_train = train_df['label']\n",
    "\n",
    "X_test = test_df.drop('label', axis=1)\n",
    "y_test = test_df['label']\n",
    "\n",
    "# --- Important Preprocessing Steps ---\n",
    "\n",
    "# A. Convert Categorical Features to Numbers\n",
    "print(\"Preprocessing data...\")\n",
    "X_train = pd.get_dummies(X_train)\n",
    "X_test = pd.get_dummies(X_test)\n",
    "\n",
    "# B. Align columns between training and testing sets to ensure they match\n",
    "train_cols = X_train.columns\n",
    "test_cols = X_test.columns\n",
    "\n",
    "missing_in_test = set(train_cols) - set(test_cols)\n",
    "for c in missing_in_test:\n",
    "    X_test[c] = 0\n",
    "\n",
    "missing_in_train = set(test_cols) - set(train_cols)\n",
    "for c in missing_in_train:\n",
    "    X_train[c] = 0\n",
    "\n",
    "X_test = X_test[X_train.columns]\n",
    "\n",
    "# NOTE: Feature Scaling (like StandardScaler) is NOT needed for Decision Trees.\n",
    "# They are not sensitive to the scale of the features.\n",
    "\n",
    "# 4. Create and Train the Decision Tree Model\n",
    "# We set a 'random_state' to ensure the results are reproducible.\n",
    "model = DecisionTreeClassifier(random_state=42)\n",
    "\n",
    "print(\"Training the Decision Tree model...\")\n",
    "model.fit(X_train, y_train)\n",
    "print(\"Model training complete.\")\n",
    "\n",
    "# 5. Make Predictions on the Test Data\n",
    "print(\"Making predictions on the test set...\")\n",
    "y_pred = model.predict(X_test)\n",
    "print(\"Prediction complete.\")\n",
    "\n",
    "# 6. Evaluate the Model's Performance\n",
    "print(\"\\n--- Decision Tree Model Evaluation ---\")\n",
    "\n",
    "accuracy = accuracy_score(y_test, y_pred)\n",
    "precision = precision_score(y_test, y_pred, average='weighted', zero_division=0)\n",
    "recall = recall_score(y_test, y_pred, average='weighted', zero_division=0)\n",
    "f1 = f1_score(y_test, y_pred, average='weighted', zero_division=0)\n",
    "\n",
    "print(f\"Accuracy: {accuracy:.4f}\")\n",
    "print(f\"Precision: {precision:.4f}\")\n",
    "print(f\"Recall: {recall:.4f}\")\n",
    "print(f\"F1-Score: {f1:.4f}\")\n",
    "\n",
    "print(\"\\nClassification Report:\")\n",
    "print(classification_report(y_test, y_pred, zero_division=0))"
   ]
  },
  {
   "cell_type": "code",
   "execution_count": 3,
   "id": "5188bc89-f79e-4646-81d5-40e8ebe3dd63",
   "metadata": {},
   "outputs": [
    {
     "data": {
      "text/plain": [
       "(125973, 42)"
      ]
     },
     "execution_count": 3,
     "metadata": {},
     "output_type": "execute_result"
    }
   ],
   "source": [
    "train_df.shape"
   ]
  },
  {
   "cell_type": "code",
   "execution_count": 4,
   "id": "d1747cd6-90d1-445b-92a0-6c918cc82b8a",
   "metadata": {},
   "outputs": [
    {
     "data": {
      "text/plain": [
       "(22544, 42)"
      ]
     },
     "execution_count": 4,
     "metadata": {},
     "output_type": "execute_result"
    }
   ],
   "source": [
    "test_df.shape"
   ]
  },
  {
   "cell_type": "code",
   "execution_count": null,
   "id": "617757f0-df20-4d01-bc82-452a4ba81714",
   "metadata": {},
   "outputs": [],
   "source": []
  }
 ],
 "metadata": {
  "kernelspec": {
   "display_name": "Python 3 (ipykernel)",
   "language": "python",
   "name": "python3"
  },
  "language_info": {
   "codemirror_mode": {
    "name": "ipython",
    "version": 3
   },
   "file_extension": ".py",
   "mimetype": "text/x-python",
   "name": "python",
   "nbconvert_exporter": "python",
   "pygments_lexer": "ipython3",
   "version": "3.12.4"
  }
 },
 "nbformat": 4,
 "nbformat_minor": 5
}
